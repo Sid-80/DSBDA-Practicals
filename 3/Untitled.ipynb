{
 "cells": [
  {
   "cell_type": "code",
   "execution_count": 1,
   "id": "7d76dbbc-b204-4e44-8f32-1a947bacfc18",
   "metadata": {},
   "outputs": [],
   "source": [
    "import pandas as pd\n",
    "import numpy as np\n",
    "import matplotlib.pyplot as plt\n",
    "import seaborn as sns"
   ]
  },
  {
   "cell_type": "code",
   "execution_count": 2,
   "id": "cbc84cbc-b560-4746-9fd4-c7fccf69ee3f",
   "metadata": {},
   "outputs": [],
   "source": [
    "df = pd.read_csv('Iris.csv')"
   ]
  },
  {
   "cell_type": "code",
   "execution_count": 3,
   "id": "8fdc85b3-4119-4883-9c45-064c96f87bfc",
   "metadata": {},
   "outputs": [
    {
     "data": {
      "text/html": [
       "<div>\n",
       "<style scoped>\n",
       "    .dataframe tbody tr th:only-of-type {\n",
       "        vertical-align: middle;\n",
       "    }\n",
       "\n",
       "    .dataframe tbody tr th {\n",
       "        vertical-align: top;\n",
       "    }\n",
       "\n",
       "    .dataframe thead th {\n",
       "        text-align: right;\n",
       "    }\n",
       "</style>\n",
       "<table border=\"1\" class=\"dataframe\">\n",
       "  <thead>\n",
       "    <tr style=\"text-align: right;\">\n",
       "      <th></th>\n",
       "      <th>Id</th>\n",
       "      <th>SepalLengthCm</th>\n",
       "      <th>SepalWidthCm</th>\n",
       "      <th>PetalLengthCm</th>\n",
       "      <th>PetalWidthCm</th>\n",
       "      <th>Species</th>\n",
       "    </tr>\n",
       "  </thead>\n",
       "  <tbody>\n",
       "    <tr>\n",
       "      <th>0</th>\n",
       "      <td>1</td>\n",
       "      <td>5.1</td>\n",
       "      <td>3.5</td>\n",
       "      <td>1.4</td>\n",
       "      <td>0.2</td>\n",
       "      <td>Iris-setosa</td>\n",
       "    </tr>\n",
       "    <tr>\n",
       "      <th>1</th>\n",
       "      <td>2</td>\n",
       "      <td>4.9</td>\n",
       "      <td>3.0</td>\n",
       "      <td>1.4</td>\n",
       "      <td>0.2</td>\n",
       "      <td>Iris-setosa</td>\n",
       "    </tr>\n",
       "    <tr>\n",
       "      <th>2</th>\n",
       "      <td>3</td>\n",
       "      <td>4.7</td>\n",
       "      <td>3.2</td>\n",
       "      <td>1.3</td>\n",
       "      <td>0.2</td>\n",
       "      <td>Iris-setosa</td>\n",
       "    </tr>\n",
       "    <tr>\n",
       "      <th>3</th>\n",
       "      <td>4</td>\n",
       "      <td>4.6</td>\n",
       "      <td>3.1</td>\n",
       "      <td>1.5</td>\n",
       "      <td>0.2</td>\n",
       "      <td>Iris-setosa</td>\n",
       "    </tr>\n",
       "    <tr>\n",
       "      <th>4</th>\n",
       "      <td>5</td>\n",
       "      <td>5.0</td>\n",
       "      <td>3.6</td>\n",
       "      <td>1.4</td>\n",
       "      <td>0.2</td>\n",
       "      <td>Iris-setosa</td>\n",
       "    </tr>\n",
       "  </tbody>\n",
       "</table>\n",
       "</div>"
      ],
      "text/plain": [
       "   Id  SepalLengthCm  SepalWidthCm  PetalLengthCm  PetalWidthCm      Species\n",
       "0   1            5.1           3.5            1.4           0.2  Iris-setosa\n",
       "1   2            4.9           3.0            1.4           0.2  Iris-setosa\n",
       "2   3            4.7           3.2            1.3           0.2  Iris-setosa\n",
       "3   4            4.6           3.1            1.5           0.2  Iris-setosa\n",
       "4   5            5.0           3.6            1.4           0.2  Iris-setosa"
      ]
     },
     "execution_count": 3,
     "metadata": {},
     "output_type": "execute_result"
    }
   ],
   "source": [
    "df.head()"
   ]
  },
  {
   "cell_type": "code",
   "execution_count": 4,
   "id": "aab40491-ece9-493d-aa93-560d5dc57144",
   "metadata": {},
   "outputs": [],
   "source": [
    "df.drop(['Id','Species'],axis=1,inplace=True)"
   ]
  },
  {
   "cell_type": "code",
   "execution_count": 5,
   "id": "f5bf2637-c609-4b1f-aa81-d368afbc6b01",
   "metadata": {},
   "outputs": [
    {
     "data": {
      "text/html": [
       "<div>\n",
       "<style scoped>\n",
       "    .dataframe tbody tr th:only-of-type {\n",
       "        vertical-align: middle;\n",
       "    }\n",
       "\n",
       "    .dataframe tbody tr th {\n",
       "        vertical-align: top;\n",
       "    }\n",
       "\n",
       "    .dataframe thead th {\n",
       "        text-align: right;\n",
       "    }\n",
       "</style>\n",
       "<table border=\"1\" class=\"dataframe\">\n",
       "  <thead>\n",
       "    <tr style=\"text-align: right;\">\n",
       "      <th></th>\n",
       "      <th>SepalLengthCm</th>\n",
       "      <th>SepalWidthCm</th>\n",
       "      <th>PetalLengthCm</th>\n",
       "      <th>PetalWidthCm</th>\n",
       "    </tr>\n",
       "  </thead>\n",
       "  <tbody>\n",
       "    <tr>\n",
       "      <th>count</th>\n",
       "      <td>150.000000</td>\n",
       "      <td>150.000000</td>\n",
       "      <td>150.000000</td>\n",
       "      <td>150.000000</td>\n",
       "    </tr>\n",
       "    <tr>\n",
       "      <th>mean</th>\n",
       "      <td>5.843333</td>\n",
       "      <td>3.054000</td>\n",
       "      <td>3.758667</td>\n",
       "      <td>1.198667</td>\n",
       "    </tr>\n",
       "    <tr>\n",
       "      <th>std</th>\n",
       "      <td>0.828066</td>\n",
       "      <td>0.433594</td>\n",
       "      <td>1.764420</td>\n",
       "      <td>0.763161</td>\n",
       "    </tr>\n",
       "    <tr>\n",
       "      <th>min</th>\n",
       "      <td>4.300000</td>\n",
       "      <td>2.000000</td>\n",
       "      <td>1.000000</td>\n",
       "      <td>0.100000</td>\n",
       "    </tr>\n",
       "    <tr>\n",
       "      <th>25%</th>\n",
       "      <td>5.100000</td>\n",
       "      <td>2.800000</td>\n",
       "      <td>1.600000</td>\n",
       "      <td>0.300000</td>\n",
       "    </tr>\n",
       "    <tr>\n",
       "      <th>50%</th>\n",
       "      <td>5.800000</td>\n",
       "      <td>3.000000</td>\n",
       "      <td>4.350000</td>\n",
       "      <td>1.300000</td>\n",
       "    </tr>\n",
       "    <tr>\n",
       "      <th>75%</th>\n",
       "      <td>6.400000</td>\n",
       "      <td>3.300000</td>\n",
       "      <td>5.100000</td>\n",
       "      <td>1.800000</td>\n",
       "    </tr>\n",
       "    <tr>\n",
       "      <th>max</th>\n",
       "      <td>7.900000</td>\n",
       "      <td>4.400000</td>\n",
       "      <td>6.900000</td>\n",
       "      <td>2.500000</td>\n",
       "    </tr>\n",
       "  </tbody>\n",
       "</table>\n",
       "</div>"
      ],
      "text/plain": [
       "       SepalLengthCm  SepalWidthCm  PetalLengthCm  PetalWidthCm\n",
       "count     150.000000    150.000000     150.000000    150.000000\n",
       "mean        5.843333      3.054000       3.758667      1.198667\n",
       "std         0.828066      0.433594       1.764420      0.763161\n",
       "min         4.300000      2.000000       1.000000      0.100000\n",
       "25%         5.100000      2.800000       1.600000      0.300000\n",
       "50%         5.800000      3.000000       4.350000      1.300000\n",
       "75%         6.400000      3.300000       5.100000      1.800000\n",
       "max         7.900000      4.400000       6.900000      2.500000"
      ]
     },
     "execution_count": 5,
     "metadata": {},
     "output_type": "execute_result"
    }
   ],
   "source": [
    "df.describe()"
   ]
  },
  {
   "cell_type": "code",
   "execution_count": 6,
   "id": "a14bd2de-85b4-461d-bdc4-4f45c5a380ed",
   "metadata": {},
   "outputs": [
    {
     "name": "stdout",
     "output_type": "stream",
     "text": [
      "<class 'pandas.core.frame.DataFrame'>\n",
      "RangeIndex: 150 entries, 0 to 149\n",
      "Data columns (total 4 columns):\n",
      " #   Column         Non-Null Count  Dtype  \n",
      "---  ------         --------------  -----  \n",
      " 0   SepalLengthCm  150 non-null    float64\n",
      " 1   SepalWidthCm   150 non-null    float64\n",
      " 2   PetalLengthCm  150 non-null    float64\n",
      " 3   PetalWidthCm   150 non-null    float64\n",
      "dtypes: float64(4)\n",
      "memory usage: 4.8 KB\n"
     ]
    }
   ],
   "source": [
    "df.info()"
   ]
  },
  {
   "cell_type": "code",
   "execution_count": 7,
   "id": "be4c1162-d190-4639-a0c1-873475efa7b5",
   "metadata": {},
   "outputs": [
    {
     "data": {
      "text/html": [
       "<div>\n",
       "<style scoped>\n",
       "    .dataframe tbody tr th:only-of-type {\n",
       "        vertical-align: middle;\n",
       "    }\n",
       "\n",
       "    .dataframe tbody tr th {\n",
       "        vertical-align: top;\n",
       "    }\n",
       "\n",
       "    .dataframe thead th {\n",
       "        text-align: right;\n",
       "    }\n",
       "</style>\n",
       "<table border=\"1\" class=\"dataframe\">\n",
       "  <thead>\n",
       "    <tr style=\"text-align: right;\">\n",
       "      <th></th>\n",
       "      <th>SepalLengthCm</th>\n",
       "      <th>SepalWidthCm</th>\n",
       "      <th>PetalLengthCm</th>\n",
       "      <th>PetalWidthCm</th>\n",
       "    </tr>\n",
       "  </thead>\n",
       "  <tbody>\n",
       "    <tr>\n",
       "      <th>SepalLengthCm</th>\n",
       "      <td>0.685694</td>\n",
       "      <td>-0.039268</td>\n",
       "      <td>1.273682</td>\n",
       "      <td>0.516904</td>\n",
       "    </tr>\n",
       "    <tr>\n",
       "      <th>SepalWidthCm</th>\n",
       "      <td>-0.039268</td>\n",
       "      <td>0.188004</td>\n",
       "      <td>-0.321713</td>\n",
       "      <td>-0.117981</td>\n",
       "    </tr>\n",
       "    <tr>\n",
       "      <th>PetalLengthCm</th>\n",
       "      <td>1.273682</td>\n",
       "      <td>-0.321713</td>\n",
       "      <td>3.113179</td>\n",
       "      <td>1.296387</td>\n",
       "    </tr>\n",
       "    <tr>\n",
       "      <th>PetalWidthCm</th>\n",
       "      <td>0.516904</td>\n",
       "      <td>-0.117981</td>\n",
       "      <td>1.296387</td>\n",
       "      <td>0.582414</td>\n",
       "    </tr>\n",
       "  </tbody>\n",
       "</table>\n",
       "</div>"
      ],
      "text/plain": [
       "               SepalLengthCm  SepalWidthCm  PetalLengthCm  PetalWidthCm\n",
       "SepalLengthCm       0.685694     -0.039268       1.273682      0.516904\n",
       "SepalWidthCm       -0.039268      0.188004      -0.321713     -0.117981\n",
       "PetalLengthCm       1.273682     -0.321713       3.113179      1.296387\n",
       "PetalWidthCm        0.516904     -0.117981       1.296387      0.582414"
      ]
     },
     "execution_count": 7,
     "metadata": {},
     "output_type": "execute_result"
    }
   ],
   "source": [
    "df.cov()"
   ]
  },
  {
   "cell_type": "code",
   "execution_count": 8,
   "id": "f3e62b77-2962-4a0f-9e9f-62b92e0361ec",
   "metadata": {},
   "outputs": [
    {
     "data": {
      "text/html": [
       "<div>\n",
       "<style scoped>\n",
       "    .dataframe tbody tr th:only-of-type {\n",
       "        vertical-align: middle;\n",
       "    }\n",
       "\n",
       "    .dataframe tbody tr th {\n",
       "        vertical-align: top;\n",
       "    }\n",
       "\n",
       "    .dataframe thead th {\n",
       "        text-align: right;\n",
       "    }\n",
       "</style>\n",
       "<table border=\"1\" class=\"dataframe\">\n",
       "  <thead>\n",
       "    <tr style=\"text-align: right;\">\n",
       "      <th></th>\n",
       "      <th>SepalLengthCm</th>\n",
       "      <th>SepalWidthCm</th>\n",
       "      <th>PetalLengthCm</th>\n",
       "      <th>PetalWidthCm</th>\n",
       "    </tr>\n",
       "  </thead>\n",
       "  <tbody>\n",
       "    <tr>\n",
       "      <th>SepalLengthCm</th>\n",
       "      <td>1.000000</td>\n",
       "      <td>-0.109369</td>\n",
       "      <td>0.871754</td>\n",
       "      <td>0.817954</td>\n",
       "    </tr>\n",
       "    <tr>\n",
       "      <th>SepalWidthCm</th>\n",
       "      <td>-0.109369</td>\n",
       "      <td>1.000000</td>\n",
       "      <td>-0.420516</td>\n",
       "      <td>-0.356544</td>\n",
       "    </tr>\n",
       "    <tr>\n",
       "      <th>PetalLengthCm</th>\n",
       "      <td>0.871754</td>\n",
       "      <td>-0.420516</td>\n",
       "      <td>1.000000</td>\n",
       "      <td>0.962757</td>\n",
       "    </tr>\n",
       "    <tr>\n",
       "      <th>PetalWidthCm</th>\n",
       "      <td>0.817954</td>\n",
       "      <td>-0.356544</td>\n",
       "      <td>0.962757</td>\n",
       "      <td>1.000000</td>\n",
       "    </tr>\n",
       "  </tbody>\n",
       "</table>\n",
       "</div>"
      ],
      "text/plain": [
       "               SepalLengthCm  SepalWidthCm  PetalLengthCm  PetalWidthCm\n",
       "SepalLengthCm       1.000000     -0.109369       0.871754      0.817954\n",
       "SepalWidthCm       -0.109369      1.000000      -0.420516     -0.356544\n",
       "PetalLengthCm       0.871754     -0.420516       1.000000      0.962757\n",
       "PetalWidthCm        0.817954     -0.356544       0.962757      1.000000"
      ]
     },
     "execution_count": 8,
     "metadata": {},
     "output_type": "execute_result"
    }
   ],
   "source": [
    "df.corr()"
   ]
  },
  {
   "cell_type": "markdown",
   "id": "b2365bcb-e1de-4b8e-aa61-4cbbaa1cbb2f",
   "metadata": {},
   "source": [
    "## Covariance Manully"
   ]
  },
  {
   "cell_type": "code",
   "execution_count": 12,
   "id": "3c556784-ea76-4f77-8565-6e839c9ecee5",
   "metadata": {},
   "outputs": [],
   "source": [
    "def calCovariance(df):\n",
    "    for i in df.columns:\n",
    "        for j in df.columns:\n",
    "\n",
    "            meanI = df[i].mean()\n",
    "            meanJ = df[j].mean()\n",
    "\n",
    "            sum = 0\n",
    "            n = len(df[i])\n",
    "            \n",
    "            for val in range(n):\n",
    "                sum += (df[i].iloc[val] - meanI) * (df[j].iloc[val] - meanJ)\n",
    "            \n",
    "            print(\"covariance of {} and {}\".format(i,j))\n",
    "            print(sum/n)\n",
    "            \n",
    "        print()"
   ]
  },
  {
   "cell_type": "code",
   "execution_count": 13,
   "id": "d7766b5f-f9c0-4df6-8db6-a9ac099ddbb7",
   "metadata": {},
   "outputs": [
    {
     "name": "stdout",
     "output_type": "stream",
     "text": [
      "covariance of SepalLengthCm and SepalLengthCm\n",
      "0.6811222222222221\n",
      "covariance of SepalLengthCm and SepalWidthCm\n",
      "-0.03900666666666666\n",
      "covariance of SepalLengthCm and PetalLengthCm\n",
      "1.2651911111111118\n",
      "covariance of SepalLengthCm and PetalWidthCm\n",
      "0.5134577777777778\n",
      "\n",
      "covariance of SepalWidthCm and SepalLengthCm\n",
      "-0.03900666666666666\n",
      "covariance of SepalWidthCm and SepalWidthCm\n",
      "0.1867506666666668\n",
      "covariance of SepalWidthCm and PetalLengthCm\n",
      "-0.319568\n",
      "covariance of SepalWidthCm and PetalWidthCm\n",
      "-0.11719466666666654\n",
      "\n",
      "covariance of PetalLengthCm and SepalLengthCm\n",
      "1.2651911111111118\n",
      "covariance of PetalLengthCm and SepalWidthCm\n",
      "-0.319568\n",
      "covariance of PetalLengthCm and PetalLengthCm\n",
      "3.092424888888889\n",
      "covariance of PetalLengthCm and PetalWidthCm\n",
      "1.2877448888888892\n",
      "\n",
      "covariance of PetalWidthCm and SepalLengthCm\n",
      "0.5134577777777778\n",
      "covariance of PetalWidthCm and SepalWidthCm\n",
      "-0.11719466666666654\n",
      "covariance of PetalWidthCm and PetalLengthCm\n",
      "1.2877448888888892\n",
      "covariance of PetalWidthCm and PetalWidthCm\n",
      "0.5785315555555556\n",
      "\n"
     ]
    }
   ],
   "source": [
    "calCovariance(df)"
   ]
  },
  {
   "cell_type": "markdown",
   "id": "d0002daf-bbbc-4629-8070-844b031839d8",
   "metadata": {},
   "source": [
    "## Correlation Manually"
   ]
  },
  {
   "cell_type": "code",
   "execution_count": 14,
   "id": "726d0cd7-c64d-4b6f-9ce9-117782eb0641",
   "metadata": {},
   "outputs": [],
   "source": [
    "import math\n",
    "def calCorrelation(df):\n",
    "    for i in df.columns:\n",
    "        for j in df.columns:\n",
    "            n = len(df[i])\n",
    "            \n",
    "            sumX  = 0\n",
    "            for x in df[i]:\n",
    "                sumX += x\n",
    "            sumY = 0\n",
    "            for y in df[j]:\n",
    "                sumY += y\n",
    "\n",
    "            sumXY = 0\n",
    "            for xy in range(n):\n",
    "                sumXY += (df[i].iloc[xy] * df[j].iloc[xy])\n",
    "                \n",
    "            sumX2  = 0\n",
    "            for x in df[i]:\n",
    "                sumX2 += (x**2)\n",
    "            sumY2 = 0\n",
    "            for y in df[j]:\n",
    "                sumY2 += (y**2)\n",
    "\n",
    "            NR = (n * sumXY) - (sumX*sumY)\n",
    "            DR = math.sqrt( ( (n * sumX2) - (sumX**2))*( (n * sumY2) - (sumY ** 2) ) )\n",
    "\n",
    "            print(\"correaltion of {} and {} :\".format(i,j))\n",
    "            print(NR/DR)"
   ]
  },
  {
   "cell_type": "code",
   "execution_count": 15,
   "id": "2e8c54ae-80a5-482d-992a-611ffc1d690c",
   "metadata": {},
   "outputs": [
    {
     "name": "stdout",
     "output_type": "stream",
     "text": [
      "correaltion of SepalLengthCm and SepalLengthCm :\n",
      "1.0\n",
      "correaltion of SepalLengthCm and SepalWidthCm :\n",
      "-0.10936924995067286\n",
      "correaltion of SepalLengthCm and PetalLengthCm :\n",
      "0.8717541573048861\n",
      "correaltion of SepalLengthCm and PetalWidthCm :\n",
      "0.8179536333691775\n",
      "correaltion of SepalWidthCm and SepalLengthCm :\n",
      "-0.10936924995067286\n",
      "correaltion of SepalWidthCm and SepalWidthCm :\n",
      "1.0\n",
      "correaltion of SepalWidthCm and PetalLengthCm :\n",
      "-0.42051609640118826\n",
      "correaltion of SepalWidthCm and PetalWidthCm :\n",
      "-0.3565440896138223\n",
      "correaltion of PetalLengthCm and SepalLengthCm :\n",
      "0.8717541573048861\n",
      "correaltion of PetalLengthCm and SepalWidthCm :\n",
      "-0.42051609640118826\n",
      "correaltion of PetalLengthCm and PetalLengthCm :\n",
      "1.0\n",
      "correaltion of PetalLengthCm and PetalWidthCm :\n",
      "0.9627570970509656\n",
      "correaltion of PetalWidthCm and SepalLengthCm :\n",
      "0.8179536333691775\n",
      "correaltion of PetalWidthCm and SepalWidthCm :\n",
      "-0.3565440896138223\n",
      "correaltion of PetalWidthCm and PetalLengthCm :\n",
      "0.9627570970509656\n",
      "correaltion of PetalWidthCm and PetalWidthCm :\n",
      "1.0\n"
     ]
    }
   ],
   "source": [
    "calCorrelation(df)"
   ]
  },
  {
   "cell_type": "code",
   "execution_count": 20,
   "id": "4c9f5799-749e-4bc8-8ac8-c1cd691735e2",
   "metadata": {},
   "outputs": [
    {
     "data": {
      "text/plain": [
       "<Axes: >"
      ]
     },
     "execution_count": 20,
     "metadata": {},
     "output_type": "execute_result"
    },
    {
     "data": {
      "image/png": "[encoded data removed]",
      "text/plain": [
       "<Figure size 640x480 with 2 Axes>"
      ]
     },
     "metadata": {},
     "output_type": "display_data"
    }
   ],
   "source": [
    "sns.heatmap(df.corr(),annot=True,cmap=\"Blues\", fmt='.1g')"
   ]
  },
  {
   "cell_type": "code",
   "execution_count": null,
   "id": "7cdfbf11-3722-4a53-975b-4b6a4ba57d53",
   "metadata": {},
   "outputs": [],
   "source": []
  }
 ],
 "metadata": {
  "kernelspec": {
   "display_name": "Python 3 (ipykernel)",
   "language": "python",
   "name": "python3"
  },
  "language_info": {
   "codemirror_mode": {
    "name": "ipython",
    "version": 3
   },
   "file_extension": ".py",
   "mimetype": "text/x-python",
   "name": "python",
   "nbconvert_exporter": "python",
   "pygments_lexer": "ipython3",
   "version": "3.11.8"
  }
 },
 "nbformat": 4,
 "nbformat_minor": 5
}
