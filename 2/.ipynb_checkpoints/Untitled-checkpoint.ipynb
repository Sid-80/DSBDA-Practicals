{
 "cells": [
  {
   "cell_type": "code",
   "execution_count": 1,
   "id": "5641fe93-ac43-4e6b-81a1-051241c12663",
   "metadata": {},
   "outputs": [],
   "source": [
    "import pandas as pd\n",
    "import numpy as np\n",
    "import matplotlib.pyplot as plt\n",
    "import seaborn as sns"
   ]
  },
  {
   "cell_type": "code",
   "execution_count": 2,
   "id": "67ebd5fd-c0ba-4249-8ec7-688e4bd1eb67",
   "metadata": {},
   "outputs": [
    {
     "data": {
      "text/html": [
       "<div>\n",
       "<style scoped>\n",
       "    .dataframe tbody tr th:only-of-type {\n",
       "        vertical-align: middle;\n",
       "    }\n",
       "\n",
       "    .dataframe tbody tr th {\n",
       "        vertical-align: top;\n",
       "    }\n",
       "\n",
       "    .dataframe thead th {\n",
       "        text-align: right;\n",
       "    }\n",
       "</style>\n",
       "<table border=\"1\" class=\"dataframe\">\n",
       "  <thead>\n",
       "    <tr style=\"text-align: right;\">\n",
       "      <th></th>\n",
       "      <th>Age</th>\n",
       "      <th>Income</th>\n",
       "    </tr>\n",
       "  </thead>\n",
       "  <tbody>\n",
       "    <tr>\n",
       "      <th>0</th>\n",
       "      <td>Young</td>\n",
       "      <td>25000</td>\n",
       "    </tr>\n",
       "    <tr>\n",
       "      <th>1</th>\n",
       "      <td>Middle Age</td>\n",
       "      <td>54000</td>\n",
       "    </tr>\n",
       "    <tr>\n",
       "      <th>2</th>\n",
       "      <td>Old</td>\n",
       "      <td>60000</td>\n",
       "    </tr>\n",
       "    <tr>\n",
       "      <th>3</th>\n",
       "      <td>Young</td>\n",
       "      <td>15000</td>\n",
       "    </tr>\n",
       "    <tr>\n",
       "      <th>4</th>\n",
       "      <td>Young</td>\n",
       "      <td>45000</td>\n",
       "    </tr>\n",
       "  </tbody>\n",
       "</table>\n",
       "</div>"
      ],
      "text/plain": [
       "          Age  Income\n",
       "0       Young   25000\n",
       "1  Middle Age   54000\n",
       "2         Old   60000\n",
       "3       Young   15000\n",
       "4       Young   45000"
      ]
     },
     "execution_count": 2,
     "metadata": {},
     "output_type": "execute_result"
    }
   ],
   "source": [
    "df = pd.read_csv('Age-Income-Dataset.csv')\n",
    "df.head()"
   ]
  },
  {
   "cell_type": "code",
   "execution_count": 3,
   "id": "efb9e04b-80d7-4c5d-be6f-a6faad732dc1",
   "metadata": {},
   "outputs": [
    {
     "data": {
      "text/plain": [
       "Age       0\n",
       "Income    0\n",
       "dtype: int64"
      ]
     },
     "execution_count": 3,
     "metadata": {},
     "output_type": "execute_result"
    }
   ],
   "source": [
    "df.isnull().sum()"
   ]
  },
  {
   "cell_type": "code",
   "execution_count": 4,
   "id": "e1126032-e4a4-4f92-94a4-b4c9fd1f4a49",
   "metadata": {},
   "outputs": [
    {
     "name": "stdout",
     "output_type": "stream",
     "text": [
      "<class 'pandas.core.frame.DataFrame'>\n",
      "RangeIndex: 50 entries, 0 to 49\n",
      "Data columns (total 2 columns):\n",
      " #   Column  Non-Null Count  Dtype \n",
      "---  ------  --------------  ----- \n",
      " 0   Age     50 non-null     object\n",
      " 1   Income  50 non-null     int64 \n",
      "dtypes: int64(1), object(1)\n",
      "memory usage: 932.0+ bytes\n"
     ]
    }
   ],
   "source": [
    "df.info()"
   ]
  },
  {
   "cell_type": "markdown",
   "id": "56012954-e890-4d52-b6d6-efbc98435b6e",
   "metadata": {},
   "source": [
    "## Mean"
   ]
  },
  {
   "cell_type": "code",
   "execution_count": 5,
   "id": "52f1f35c-2805-4ebf-a0be-153d68320f86",
   "metadata": {},
   "outputs": [],
   "source": [
    "#Mean\n",
    "def calMean(df):\n",
    "    for col in df.columns:\n",
    "        if df[col].dtype != 'O':\n",
    "            temp = 0\n",
    "            for i in df[col]:\n",
    "                temp = temp + i\n",
    "            print(\"Without Library -> \")\n",
    "            print(\"Averge of {} is {}\".format(col,(temp/len(df[col]))))\n",
    "            print()\n",
    "            print(\"With Library -> \")\n",
    "            print(df[col].mean())"
   ]
  },
  {
   "cell_type": "code",
   "execution_count": 6,
   "id": "5c667156-4a00-419d-b52a-953768730bdf",
   "metadata": {},
   "outputs": [
    {
     "name": "stdout",
     "output_type": "stream",
     "text": [
      "Without Library -> \n",
      "Averge of Income is 50966.0\n",
      "\n",
      "With Library -> \n",
      "50966.0\n"
     ]
    }
   ],
   "source": [
    "calMean(df)"
   ]
  },
  {
   "cell_type": "markdown",
   "id": "abd69d77-a006-427c-b42a-96008003faac",
   "metadata": {},
   "source": [
    "## Median"
   ]
  },
  {
   "cell_type": "code",
   "execution_count": 7,
   "id": "9f55f5f0-51fb-4dfa-9f06-53378295e8a7",
   "metadata": {},
   "outputs": [],
   "source": [
    "#Mean\n",
    "def calMedian(df):\n",
    "    for col in df.columns:\n",
    "        if df[col].dtype != 'O':\n",
    "            arr = sorted(df[col])\n",
    "\n",
    "            num_rows = df.shape[0]\n",
    "\n",
    "            middle_i = num_rows // 2\n",
    "            \n",
    "            if (num_rows % 2 == 0) :\n",
    "                middle_ele = (arr[middle_i] + arr[middle_i - 1]) / 2\n",
    "            else :\n",
    "                middle_ele = arr[middle_i]\n",
    "            \n",
    "            print(\"Without Library -> \")\n",
    "            print(\"Median of {} is {}\".format(col,middle_ele))\n",
    "            print()\n",
    "            print(\"With Library -> \")\n",
    "            print(df[col].median())"
   ]
  },
  {
   "cell_type": "code",
   "execution_count": 8,
   "id": "e9b8c488-f451-4131-9c23-9b7b4b96f74d",
   "metadata": {},
   "outputs": [
    {
     "name": "stdout",
     "output_type": "stream",
     "text": [
      "Without Library -> \n",
      "Median of Income is 46850.0\n",
      "\n",
      "With Library -> \n",
      "46850.0\n"
     ]
    }
   ],
   "source": [
    "calMedian(df)"
   ]
  },
  {
   "cell_type": "markdown",
   "id": "6e4a6ef5-df71-42cb-b7ba-98db4fe5b264",
   "metadata": {},
   "source": [
    "## Mode"
   ]
  },
  {
   "cell_type": "code",
   "execution_count": 9,
   "id": "ba175a48-ee19-4db9-a70f-b531e82fe9a9",
   "metadata": {},
   "outputs": [],
   "source": [
    "def calMode(df):\n",
    "    for col in df.columns:\n",
    "        if df[col].dtype == 'O':\n",
    "            arr = df[col].sort_values()\n",
    "\n",
    "            prevcnt = 0\n",
    "            cnt = 0\n",
    "            ans = arr[0]\n",
    "            temp = arr[0]\n",
    "\n",
    "            for i in arr:\n",
    "                if(temp == i) :\n",
    "                    cnt += 1\n",
    "                else:\n",
    "                    prevcnt = cnt\n",
    "                    cnt = 1\n",
    "                    temp = i\n",
    "                if(cnt > prevcnt):\n",
    "                    ans = i\n",
    "            \n",
    "            print(\"Without Library -> \")\n",
    "            print(\"Mode of {} is {}\".format(col,ans))\n",
    "            print()\n",
    "            print(\"With Library -> \")\n",
    "            print(df[col].mode())"
   ]
  },
  {
   "cell_type": "code",
   "execution_count": 10,
   "id": "80a8a8f2-3489-482b-b7d4-c90b35c45331",
   "metadata": {},
   "outputs": [
    {
     "name": "stdout",
     "output_type": "stream",
     "text": [
      "Without Library -> \n",
      "Mode of Age is Old\n",
      "\n",
      "With Library -> \n",
      "0    Old\n",
      "Name: Age, dtype: object\n"
     ]
    }
   ],
   "source": [
    "calMode(df)"
   ]
  },
  {
   "cell_type": "markdown",
   "id": "9fef52df-2251-48cd-821b-0a91bffbdd4a",
   "metadata": {},
   "source": [
    "## STD"
   ]
  },
  {
   "cell_type": "code",
   "execution_count": 11,
   "id": "81db57b5-b657-4e40-9fa8-a8f1a4f02dba",
   "metadata": {},
   "outputs": [],
   "source": [
    "import math\n",
    "def calSD(df):\n",
    "    for col in df.columns:\n",
    "        if df[col].dtype != 'O':\n",
    "\n",
    "            meanVal = df[col].mean()\n",
    "\n",
    "            sum = 0\n",
    "            n = len(df[col])\n",
    "\n",
    "            for i in df[col]:\n",
    "                sum+= (i - meanVal)**2\n",
    "\n",
    "            std = math.sqrt(sum/n)    \n",
    "        \n",
    "            print(\"Without Library -> \")\n",
    "            print(\"Standard Deviation of {} is {}\".format(col,std))\n",
    "            print()\n",
    "            print(\"With Library -> \")\n",
    "            print(np.std(df[col]))"
   ]
  },
  {
   "cell_type": "code",
   "execution_count": 12,
   "id": "a5dcf345-47a2-40ac-be24-d2205411be54",
   "metadata": {},
   "outputs": [
    {
     "name": "stdout",
     "output_type": "stream",
     "text": [
      "Without Library -> \n",
      "Standard Deviation of Income is 20884.6509187968\n",
      "\n",
      "With Library -> \n",
      "20884.6509187968\n"
     ]
    }
   ],
   "source": [
    "calSD(df)"
   ]
  },
  {
   "cell_type": "markdown",
   "id": "f20e001e-9d1c-40d2-94bd-7852531f3db1",
   "metadata": {},
   "source": [
    "## Minimum Value"
   ]
  },
  {
   "cell_type": "code",
   "execution_count": 13,
   "id": "6abffe68-df97-443b-909a-33078bdd9067",
   "metadata": {},
   "outputs": [],
   "source": [
    "def calMinimum(df):\n",
    "     for col in df.columns:\n",
    "        if df[col].dtype != 'O':\n",
    "            arr = sorted(df[col])\n",
    "        \n",
    "            print(\"Without Library -> \")\n",
    "            print(\"Minimum of {} is {}\".format(col,arr[0]))\n",
    "            print()\n",
    "            print(\"With Library -> \")\n",
    "            print(min(df[col]))"
   ]
  },
  {
   "cell_type": "code",
   "execution_count": 14,
   "id": "62cbc8b7-131b-46c9-af10-cb1ff084b393",
   "metadata": {},
   "outputs": [
    {
     "name": "stdout",
     "output_type": "stream",
     "text": [
      "Without Library -> \n",
      "Minimum of Income is 15000\n",
      "\n",
      "With Library -> \n",
      "15000\n"
     ]
    }
   ],
   "source": [
    "calMinimum(df)"
   ]
  },
  {
   "cell_type": "markdown",
   "id": "08d8bf06-b25c-4b0a-bb7e-143776be55ad",
   "metadata": {},
   "source": [
    "## Maximum Value"
   ]
  },
  {
   "cell_type": "code",
   "execution_count": 15,
   "id": "af78b789-80f7-407f-bf06-05e97e2f0660",
   "metadata": {},
   "outputs": [],
   "source": [
    "def calMax(df):\n",
    "     for col in df.columns:\n",
    "        if df[col].dtype != 'O':\n",
    "            arr = sorted(df[col])\n",
    "            n = len(df[col])\n",
    "            \n",
    "            print(\"Without Library -> \")\n",
    "            print(\"Minimum of {} is {}\".format(col,arr[n-1]))\n",
    "            print()\n",
    "            print(\"With Library -> \")\n",
    "            print(max(df[col]))"
   ]
  },
  {
   "cell_type": "code",
   "execution_count": 16,
   "id": "61ce9d7b-7a8a-4bf6-8876-e1d139630852",
   "metadata": {},
   "outputs": [
    {
     "name": "stdout",
     "output_type": "stream",
     "text": [
      "Without Library -> \n",
      "Minimum of Income is 93000\n",
      "\n",
      "With Library -> \n",
      "93000\n"
     ]
    }
   ],
   "source": [
    "calMax(df)"
   ]
  },
  {
   "cell_type": "markdown",
   "id": "50fcc8b4-d0e3-4475-80de-dae951e078dd",
   "metadata": {},
   "source": [
    "## Summary Statistics"
   ]
  },
  {
   "cell_type": "code",
   "execution_count": 17,
   "id": "42993175-ac3a-45a9-b5f5-2321360f638c",
   "metadata": {},
   "outputs": [
    {
     "data": {
      "text/html": [
       "<div>\n",
       "<style scoped>\n",
       "    .dataframe tbody tr th:only-of-type {\n",
       "        vertical-align: middle;\n",
       "    }\n",
       "\n",
       "    .dataframe tbody tr th {\n",
       "        vertical-align: top;\n",
       "    }\n",
       "\n",
       "    .dataframe thead th {\n",
       "        text-align: right;\n",
       "    }\n",
       "</style>\n",
       "<table border=\"1\" class=\"dataframe\">\n",
       "  <thead>\n",
       "    <tr style=\"text-align: right;\">\n",
       "      <th></th>\n",
       "      <th>Income</th>\n",
       "    </tr>\n",
       "    <tr>\n",
       "      <th>Age</th>\n",
       "      <th></th>\n",
       "    </tr>\n",
       "  </thead>\n",
       "  <tbody>\n",
       "    <tr>\n",
       "      <th>Middle Age</th>\n",
       "      <td>15</td>\n",
       "    </tr>\n",
       "    <tr>\n",
       "      <th>Old</th>\n",
       "      <td>19</td>\n",
       "    </tr>\n",
       "    <tr>\n",
       "      <th>Young</th>\n",
       "      <td>16</td>\n",
       "    </tr>\n",
       "  </tbody>\n",
       "</table>\n",
       "</div>"
      ],
      "text/plain": [
       "            Income\n",
       "Age               \n",
       "Middle Age      15\n",
       "Old             19\n",
       "Young           16"
      ]
     },
     "execution_count": 17,
     "metadata": {},
     "output_type": "execute_result"
    }
   ],
   "source": [
    "df.groupby('Age').count()"
   ]
  },
  {
   "cell_type": "code",
   "execution_count": 21,
   "id": "501c6667-8668-4e5a-afc4-72a3a25a791c",
   "metadata": {},
   "outputs": [
    {
     "data": {
      "text/plain": [
       "Age\n",
       "Middle Age    52453.333333\n",
       "Old           53942.105263\n",
       "Young         46037.500000\n",
       "Name: Income, dtype: float64"
      ]
     },
     "execution_count": 21,
     "metadata": {},
     "output_type": "execute_result"
    }
   ],
   "source": [
    "data = df.copy()\n",
    "\n",
    "mean_all = data.groupby('Age')['Income'].mean()\n",
    "std_all = data.groupby('Age')['Income'].std()\n",
    "min_all = data.groupby('Age')['Income'].min()\n",
    "max_all = data.groupby('Age')['Income'].max()\n",
    "median_all = data.groupby('Age')['Income'].median()\n",
    "\n",
    "mean_all"
   ]
  },
  {
   "cell_type": "code",
   "execution_count": 19,
   "id": "fe03e8ea-61b4-4900-8c88-1e52d2642519",
   "metadata": {},
   "outputs": [
    {
     "data": {
      "text/plain": [
       "[['Mean : 52453.333333333336',\n",
       "  'Standard Deviation : 20497.800114251517',\n",
       "  'Minimum : 25600',\n",
       "  'Maximum : 93000',\n",
       "  'Median : 53200.0'],\n",
       " ['Mean : 53942.10526315789',\n",
       "  'Standard Deviation : 20868.165968220423',\n",
       "  'Minimum : 24500',\n",
       "  'Maximum : 89700',\n",
       "  'Median : 45300.0'],\n",
       " ['Mean : 46037.5',\n",
       "  'Standard Deviation : 22356.859499193233',\n",
       "  'Minimum : 15000',\n",
       "  'Maximum : 87000',\n",
       "  'Median : 41500.0']]"
      ]
     },
     "execution_count": 19,
     "metadata": {},
     "output_type": "execute_result"
    }
   ],
   "source": [
    "## Total number of unique categories are 3\n",
    "\n",
    "info = []\n",
    "\n",
    "for i in [0,1,2]:\n",
    "    temp = []\n",
    "    temp.append('Mean : {}'.format(mean_all.iloc[i]))\n",
    "    temp.append('Standard Deviation : {}'.format(std_all.iloc[i]))\n",
    "    temp.append('Minimum : {}'.format(min_all.iloc[i]))\n",
    "    temp.append('Maximum : {}'.format(max_all.iloc[i]))\n",
    "    temp.append('Median : {}'.format(median_all.iloc[i]))\n",
    "    info.append(temp)\n",
    "    \n",
    "info"
   ]
  },
  {
   "cell_type": "code",
   "execution_count": 20,
   "id": "45660620-9a3c-4e0f-b01c-d4a9c8869e46",
   "metadata": {},
   "outputs": [
    {
     "name": "stdout",
     "output_type": "stream",
     "text": [
      "*****Statistics of Middle Age*****\n",
      "Mean : 52453.333333333336\n",
      "Standard Deviation : 20497.800114251517\n",
      "Minimum : 25600\n",
      "Maximum : 93000\n",
      "Median : 53200.0\n",
      "-------------------------------------------------------\n",
      "*****Statistics of Old*****\n",
      "Mean : 53942.10526315789\n",
      "Standard Deviation : 20868.165968220423\n",
      "Minimum : 24500\n",
      "Maximum : 89700\n",
      "Median : 45300.0\n",
      "-------------------------------------------------------\n",
      "*****Statistics of Young*****\n",
      "Mean : 46037.5\n",
      "Standard Deviation : 22356.859499193233\n",
      "Minimum : 15000\n",
      "Maximum : 87000\n",
      "Median : 41500.0\n",
      "-------------------------------------------------------\n"
     ]
    }
   ],
   "source": [
    "diff_categories=['Middle Age','Old','Young']\n",
    "for i in [0,1,2]:\n",
    "    print('*****Statistics of {}*****'.format(diff_categories[i]))\n",
    "    for i in info[i]:\n",
    "        print(i)\n",
    "    \n",
    "    print('-------------------------------------------------------')"
   ]
  },
  {
   "cell_type": "code",
   "execution_count": null,
   "id": "6a8dacc3-a112-4144-841b-9ff28b2de0d9",
   "metadata": {},
   "outputs": [],
   "source": []
  }
 ],
 "metadata": {
  "kernelspec": {
   "display_name": "Python 3 (ipykernel)",
   "language": "python",
   "name": "python3"
  },
  "language_info": {
   "codemirror_mode": {
    "name": "ipython",
    "version": 3
   },
   "file_extension": ".py",
   "mimetype": "text/x-python",
   "name": "python",
   "nbconvert_exporter": "python",
   "pygments_lexer": "ipython3",
   "version": "3.11.8"
  }
 },
 "nbformat": 4,
 "nbformat_minor": 5
}
